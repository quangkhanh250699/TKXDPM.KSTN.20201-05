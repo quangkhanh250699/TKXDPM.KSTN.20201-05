{
 "cells": [
  {
   "cell_type": "markdown",
   "metadata": {
    "toc": true
   },
   "source": [
    "<h1>Table of Contents<span class=\"tocSkip\"></span></h1>\n",
    "<div class=\"toc\"><ul class=\"toc-item\"></ul></div>"
   ]
  },
  {
   "cell_type": "code",
   "execution_count": 1,
   "metadata": {},
   "outputs": [
    {
     "data": {
      "text/plain": [
       "\u001b[32mimport \u001b[39m\u001b[36m$ivy.$                                  \n",
       "\u001b[39m\n",
       "\u001b[32mimport \u001b[39m\u001b[36m$ivy.$                                   \u001b[39m"
      ]
     },
     "execution_count": 1,
     "metadata": {},
     "output_type": "execute_result"
    }
   ],
   "source": [
    "import $ivy.`org.apache.spark::spark-sql:3.0.1`\n",
    "import $ivy.`org.apache.spark::spark-core:3.0.1`"
   ]
  },
  {
   "cell_type": "code",
   "execution_count": 2,
   "metadata": {},
   "outputs": [
    {
     "data": {
      "text/plain": [
       "\u001b[32mimport \u001b[39m\u001b[36morg.apache.spark.sql._\u001b[39m"
      ]
     },
     "execution_count": 2,
     "metadata": {},
     "output_type": "execute_result"
    }
   ],
   "source": [
    "import org.apache.spark.sql._"
   ]
  },
  {
   "cell_type": "code",
   "execution_count": 3,
   "metadata": {
    "collapsed": true
   },
   "outputs": [
    {
     "name": "stderr",
     "output_type": "stream",
     "text": [
      "Using Spark's default log4j profile: org/apache/spark/log4j-defaults.properties\n",
      "20/12/02 21:22:48 WARN Utils: Your hostname, kiritsugu resolves to a loopback address: 127.0.1.1; using 192.168.1.4 instead (on interface wlp2s0)\n",
      "20/12/02 21:22:48 WARN Utils: Set SPARK_LOCAL_IP if you need to bind to another address\n",
      "20/12/02 21:22:48 INFO SparkContext: Running Spark version 3.0.1\n",
      "20/12/02 21:22:48 WARN NativeCodeLoader: Unable to load native-hadoop library for your platform... using builtin-java classes where applicable\n",
      "20/12/02 21:22:49 INFO ResourceUtils: ==============================================================\n",
      "20/12/02 21:22:49 INFO ResourceUtils: Resources for spark.driver:\n",
      "\n",
      "20/12/02 21:22:49 INFO ResourceUtils: ==============================================================\n",
      "20/12/02 21:22:49 INFO SparkContext: Submitted application: a\n",
      "20/12/02 21:22:49 INFO SecurityManager: Changing view acls to: quangkhanh\n",
      "20/12/02 21:22:49 INFO SecurityManager: Changing modify acls to: quangkhanh\n",
      "20/12/02 21:22:49 INFO SecurityManager: Changing view acls groups to: \n",
      "20/12/02 21:22:49 INFO SecurityManager: Changing modify acls groups to: \n",
      "20/12/02 21:22:49 INFO SecurityManager: SecurityManager: authentication disabled; ui acls disabled; users  with view permissions: Set(quangkhanh); groups with view permissions: Set(); users  with modify permissions: Set(quangkhanh); groups with modify permissions: Set()\n",
      "20/12/02 21:22:49 INFO Utils: Successfully started service 'sparkDriver' on port 36553.\n",
      "20/12/02 21:22:49 INFO SparkEnv: Registering MapOutputTracker\n",
      "20/12/02 21:22:49 INFO SparkEnv: Registering BlockManagerMaster\n",
      "20/12/02 21:22:49 INFO BlockManagerMasterEndpoint: Using org.apache.spark.storage.DefaultTopologyMapper for getting topology information\n",
      "20/12/02 21:22:49 INFO BlockManagerMasterEndpoint: BlockManagerMasterEndpoint up\n",
      "20/12/02 21:22:49 INFO SparkEnv: Registering BlockManagerMasterHeartbeat\n",
      "20/12/02 21:22:49 INFO DiskBlockManager: Created local directory at /tmp/blockmgr-a9089c7c-9cd2-4353-aa13-fcfdbd2f207c\n",
      "20/12/02 21:22:49 INFO MemoryStore: MemoryStore started with capacity 868.8 MiB\n",
      "20/12/02 21:22:49 INFO SparkEnv: Registering OutputCommitCoordinator\n",
      "20/12/02 21:22:50 INFO Utils: Successfully started service 'SparkUI' on port 4040.\n",
      "20/12/02 21:22:50 INFO SparkUI: Bound SparkUI to 0.0.0.0, and started at http://192.168.1.4:4040\n",
      "20/12/02 21:22:50 INFO Executor: Starting executor ID driver on host 192.168.1.4\n",
      "20/12/02 21:22:50 INFO Utils: Successfully started service 'org.apache.spark.network.netty.NettyBlockTransferService' on port 45393.\n",
      "20/12/02 21:22:50 INFO NettyBlockTransferService: Server created on 192.168.1.4:45393\n",
      "20/12/02 21:22:50 INFO BlockManager: Using org.apache.spark.storage.RandomBlockReplicationPolicy for block replication policy\n",
      "20/12/02 21:22:50 INFO BlockManagerMaster: Registering BlockManager BlockManagerId(driver, 192.168.1.4, 45393, None)\n",
      "20/12/02 21:22:50 INFO BlockManagerMasterEndpoint: Registering block manager 192.168.1.4:45393 with 868.8 MiB RAM, BlockManagerId(driver, 192.168.1.4, 45393, None)\n",
      "20/12/02 21:22:50 INFO BlockManagerMaster: Registered BlockManager BlockManagerId(driver, 192.168.1.4, 45393, None)\n",
      "20/12/02 21:22:50 INFO BlockManager: Initialized BlockManager: BlockManagerId(driver, 192.168.1.4, 45393, None)\n"
     ]
    },
    {
     "data": {
      "text/plain": [
       "\u001b[36msparkSession\u001b[39m: \u001b[32mSparkSession\u001b[39m = org.apache.spark.sql.SparkSession@1e4ec448"
      ]
     },
     "execution_count": 3,
     "metadata": {},
     "output_type": "execute_result"
    }
   ],
   "source": [
    "val sparkSession = SparkSession.builder.appName(\"a\").master(\"local\").getOrCreate()"
   ]
  },
  {
   "cell_type": "code",
   "execution_count": 4,
   "metadata": {},
   "outputs": [],
   "source": [
    "sparkSession.sparkContext.setLogLevel(\"ERROR\")"
   ]
  },
  {
   "cell_type": "code",
   "execution_count": 26,
   "metadata": {},
   "outputs": [
    {
     "data": {
      "text/plain": [
       "\u001b[36mdata\u001b[39m: \u001b[32mSeq\u001b[39m[\u001b[32mString\u001b[39m] = \u001b[33mList\u001b[39m(\u001b[32m\"1,2,3,4\"\u001b[39m, \u001b[32m\"2,3,,5\"\u001b[39m, \u001b[32m\"4,4,5,6\"\u001b[39m)\n",
       "\u001b[36mrdd\u001b[39m: \u001b[32morg\u001b[39m.\u001b[32mapache\u001b[39m.\u001b[32mspark\u001b[39m.\u001b[32mrdd\u001b[39m.\u001b[32mRDD\u001b[39m[\u001b[32mString\u001b[39m] = ParallelCollectionRDD[26] at parallelize at cmd25.sc:2"
      ]
     },
     "execution_count": 26,
     "metadata": {},
     "output_type": "execute_result"
    }
   ],
   "source": [
    "val data = Seq(\"1,2,3,4\", \"2,3,,5\", \"4,4,5,6\")\n",
    "val rdd = sparkSession.sparkContext.parallelize(data)"
   ]
  },
  {
   "cell_type": "code",
   "execution_count": 27,
   "metadata": {},
   "outputs": [
    {
     "name": "stdout",
     "output_type": "stream",
     "text": [
      "+-------+\n",
      "|  value|\n",
      "+-------+\n",
      "|1,2,3,4|\n",
      "| 2,3,,5|\n",
      "|4,4,5,6|\n",
      "+-------+\n",
      "\n"
     ]
    },
    {
     "data": {
      "text/plain": [
       "\u001b[32mimport \u001b[39m\u001b[36msparkSession.implicits._\n",
       "\u001b[39m\n",
       "\u001b[36mdf\u001b[39m: \u001b[32mDataFrame\u001b[39m = [value: string]"
      ]
     },
     "execution_count": 27,
     "metadata": {},
     "output_type": "execute_result"
    }
   ],
   "source": [
    "import sparkSession.implicits._\n",
    "val df = rdd.toDF()\n",
    "df.show()"
   ]
  },
  {
   "cell_type": "code",
   "execution_count": 28,
   "metadata": {},
   "outputs": [
    {
     "name": "stdout",
     "output_type": "stream",
     "text": [
      "+------------+\n",
      "|       value|\n",
      "+------------+\n",
      "|[1, 2, 3, 4]|\n",
      "| [2, 3, , 5]|\n",
      "|[4, 4, 5, 6]|\n",
      "+------------+\n",
      "\n"
     ]
    },
    {
     "data": {
      "text/plain": [
       "\u001b[36mdf1\u001b[39m: \u001b[32mDataset\u001b[39m[\u001b[32mArray\u001b[39m[\u001b[32mString\u001b[39m]] = [value: array<string>]"
      ]
     },
     "execution_count": 28,
     "metadata": {},
     "output_type": "execute_result"
    }
   ],
   "source": [
    "val df1 = df.select(\"value\").as[String].map((x: String) => x.split(','))\n",
    "df1.show()"
   ]
  },
  {
   "cell_type": "code",
   "execution_count": 29,
   "metadata": {
    "scrolled": false
   },
   "outputs": [
    {
     "data": {
      "text/plain": [
       "\u001b[36mdf2\u001b[39m: \u001b[32mDataFrame\u001b[39m = [col1: int, col2: int ... 1 more field]"
      ]
     },
     "execution_count": 29,
     "metadata": {},
     "output_type": "execute_result"
    }
   ],
   "source": [
    "val df2 = df1\n",
    "  .select(\n",
    "    $\"value\".getItem(0).cast(\"int\").as(\"col1\"),\n",
    "    $\"value\".getItem(1).cast(\"int\").as(\"col2\"),\n",
    "    $\"value\".getItem(2).cast(\"int\").as(\"col3\")\n",
    "  )"
   ]
  },
  {
   "cell_type": "code",
   "execution_count": 35,
   "metadata": {},
   "outputs": [
    {
     "name": "stderr",
     "output_type": "stream",
     "text": [
      "cmd35.sc:2: value limit is not a member of org.apache.spark.sql.Column\n",
      "val res35_1 = df2.select(col(\"col1\").limit(2))\n",
      "                                     ^Compilation Failed"
     ]
    },
    {
     "ename": "",
     "evalue": "",
     "output_type": "error",
     "traceback": [
      "Compilation Failed"
     ]
    }
   ],
   "source": [
    "import org.apache.spark.sql.functions.col\n",
    "df2.select(col(\"col1\").)"
   ]
  },
  {
   "cell_type": "code",
   "execution_count": 52,
   "metadata": {},
   "outputs": [
    {
     "name": "stdout",
     "output_type": "stream",
     "text": [
      "+----+----+----+\n",
      "|col0|col1|col2|\n",
      "+----+----+----+\n",
      "|   1|   2|   3|\n",
      "|   2|   3|   4|\n",
      "|   4|   4|   5|\n",
      "+----+----+----+\n",
      "\n"
     ]
    }
   ],
   "source": [
    "df1\n",
    "  .select(\n",
    "    (0 until 3).map(i => $\"value\".getItem(i).as(s\"col$i\")): _*\n",
    "  )\n",
    "  .show()"
   ]
  },
  {
   "cell_type": "code",
   "execution_count": 43,
   "metadata": {},
   "outputs": [
    {
     "name": "stderr",
     "output_type": "stream",
     "text": [
      "cmd43.sc:1: value toDF is not a member of org.apache.spark.rdd.RDD[org.apache.spark.sql.Row]\n",
      "val res43 = rdd1.toDF()\n",
      "                 ^Compilation Failed"
     ]
    },
    {
     "ename": "",
     "evalue": "",
     "output_type": "error",
     "traceback": [
      "Compilation Failed"
     ]
    }
   ],
   "source": []
  }
 ],
 "metadata": {
  "kernelspec": {
   "display_name": "Scala",
   "language": "scala",
   "name": "scala"
  },
  "language_info": {
   "codemirror_mode": "text/x-scala",
   "file_extension": ".scala",
   "mimetype": "text/x-scala",
   "name": "scala",
   "nbconvert_exporter": "script",
   "version": "2.12.11"
  },
  "toc": {
   "base_numbering": 1,
   "nav_menu": {},
   "number_sections": true,
   "sideBar": true,
   "skip_h1_title": false,
   "title_cell": "Table of Contents",
   "title_sidebar": "Contents",
   "toc_cell": true,
   "toc_position": {},
   "toc_section_display": true,
   "toc_window_display": false
  }
 },
 "nbformat": 4,
 "nbformat_minor": 4
}
